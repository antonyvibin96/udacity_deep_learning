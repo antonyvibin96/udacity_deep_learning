{
  "nbformat": 4,
  "nbformat_minor": 0,
  "metadata": {
    "colab": {
      "name": "celsius-farenheit",
      "provenance": [],
      "authorship_tag": "ABX9TyONGqjSiANs+yIkmae0IwC2",
      "include_colab_link": true
    },
    "kernelspec": {
      "name": "python3",
      "display_name": "Python 3"
    },
    "language_info": {
      "name": "python"
    },
    "accelerator": "GPU",
    "gpuClass": "standard"
  },
  "cells": [
    {
      "cell_type": "markdown",
      "metadata": {
        "id": "view-in-github",
        "colab_type": "text"
      },
      "source": [
        "<a href=\"https://colab.research.google.com/github/antonyvibin96/udacity_deep_learning/blob/main/celsius_farenheit.ipynb\" target=\"_parent\"><img src=\"https://colab.research.google.com/assets/colab-badge.svg\" alt=\"Open In Colab\"/></a>"
      ]
    },
    {
      "cell_type": "code",
      "source": [
        "import tensorflow as tf\n",
        "import logging\n",
        "import numpy as np\n",
        "logger = tf.get_logger()\n",
        "logger.setLevel(logging.ERROR)"
      ],
      "metadata": {
        "id": "V0KDkE8iY-3W"
      },
      "execution_count": 2,
      "outputs": []
    },
    {
      "cell_type": "code",
      "source": [
        "celsius_q    = np.array([-40, -10,  0,  8, 15, 22,  38],  dtype=float)\n",
        "fahrenheit_a = np.array([-40,  14, 32, 46, 59, 72, 100],  dtype=float)\n",
        "\n",
        "for i,v in enumerate(celsius_q):\n",
        "  print(\"{} degree Celsius {} degree farenheit\".format(v,fahrenheit_a[i]))"
      ],
      "metadata": {
        "colab": {
          "base_uri": "https://localhost:8080/"
        },
        "id": "i5yXktgTZEN1",
        "outputId": "24073611-da35-4bec-d802-4258f6ed7ce6"
      },
      "execution_count": 3,
      "outputs": [
        {
          "output_type": "stream",
          "name": "stdout",
          "text": [
            "-40.0 degree Celsius -40.0 degree farenheit\n",
            "-10.0 degree Celsius 14.0 degree farenheit\n",
            "0.0 degree Celsius 32.0 degree farenheit\n",
            "8.0 degree Celsius 46.0 degree farenheit\n",
            "15.0 degree Celsius 59.0 degree farenheit\n",
            "22.0 degree Celsius 72.0 degree farenheit\n",
            "38.0 degree Celsius 100.0 degree farenheit\n"
          ]
        }
      ]
    },
    {
      "cell_type": "code",
      "source": [
        "from tensorflow.python.ops.gen_array_ops import shape\n",
        "l0= tf.keras.layers.Dense(units=1,input_shape=[1])"
      ],
      "metadata": {
        "id": "zBLVy-i_ZCj6"
      },
      "execution_count": 4,
      "outputs": []
    },
    {
      "cell_type": "code",
      "source": [
        "model = tf.keras.Sequential([l0])"
      ],
      "metadata": {
        "id": "LeBPIGmebHIA"
      },
      "execution_count": 5,
      "outputs": []
    },
    {
      "cell_type": "code",
      "source": [
        "model.compile(loss='mean_squared_error',optimizer=tf.keras.optimizers.Adam(0.1))"
      ],
      "metadata": {
        "id": "C8TfW44db77D"
      },
      "execution_count": 6,
      "outputs": []
    },
    {
      "cell_type": "code",
      "source": [
        "history=model.fit(celsius_q,fahrenheit_a,epochs=2000,verbose=False)"
      ],
      "metadata": {
        "id": "e8Pl5onwrrqL"
      },
      "execution_count": 21,
      "outputs": []
    },
    {
      "cell_type": "code",
      "source": [
        "import matplotlib.pyplot as plt\n",
        "plt.xlabel('Epoch Number')\n",
        "plt.ylabel(\"Loss Magnitude\")\n",
        "plt.plot(history.history['loss'])"
      ],
      "metadata": {
        "colab": {
          "base_uri": "https://localhost:8080/",
          "height": 307
        },
        "id": "9WLHGQ2osItw",
        "outputId": "756d4dda-9767-45ad-f364-478f9cd74e92"
      },
      "execution_count": 22,
      "outputs": [
        {
          "output_type": "execute_result",
          "data": {
            "text/plain": [
              "[<matplotlib.lines.Line2D at 0x7ff985b497d0>]"
            ]
          },
          "metadata": {},
          "execution_count": 22
        },
        {
          "output_type": "display_data",
          "data": {
            "text/plain": [
              "<Figure size 432x288 with 1 Axes>"
            ],
            "image/png": "[encoded data removed]"
          },
          "metadata": {
            "needs_background": "light"
          }
        }
      ]
    },
    {
      "cell_type": "code",
      "source": [
        "print(model.predict([100.0]))"
      ],
      "metadata": {
        "colab": {
          "base_uri": "https://localhost:8080/"
        },
        "id": "7WI5016vsO_w",
        "outputId": "14cf46b2-2bd2-4996-ca29-fded68da56ca"
      },
      "execution_count": 23,
      "outputs": [
        {
          "output_type": "stream",
          "name": "stdout",
          "text": [
            "[[211.74742]]\n"
          ]
        }
      ]
    },
    {
      "cell_type": "code",
      "source": [
        "print(\"These are the layer variables: {}\".format(l0.get_weights()))"
      ],
      "metadata": {
        "colab": {
          "base_uri": "https://localhost:8080/"
        },
        "id": "pO72HBqvsdGa",
        "outputId": "f030f52b-956c-4462-c9ea-f101aedb1ea9"
      },
      "execution_count": 24,
      "outputs": [
        {
          "output_type": "stream",
          "name": "stdout",
          "text": [
            "These are the layer variables: [array([[1.7979491]], dtype=float32), array([31.952518], dtype=float32)]\n"
          ]
        }
      ]
    },
    {
      "cell_type": "code",
      "source": [
        "l0 = tf.keras.layers.Dense(units=4, input_shape=[1])\n",
        "l1 = tf.keras.layers.Dense(units=4)\n",
        "l2 = tf.keras.layers.Dense(units=1)\n",
        "model = tf.keras.Sequential([l0, l1, l2])\n",
        "model.compile(loss='mean_squared_error', optimizer=tf.keras.optimizers.Adam(0.1))\n",
        "model.fit(celsius_q, fahrenheit_a, epochs=500, verbose=False)\n",
        "print(\"Finished training the model\")\n",
        "print(model.predict([100.0]))\n",
        "print(\"Model predicts that 100 degrees Celsius is: {} degrees Fahrenheit\".format(model.predict([100.0])))\n",
        "print(\"These are the l0 variables: {}\".format(l0.get_weights()))\n",
        "print(\"These are the l1 variables: {}\".format(l1.get_weights()))\n",
        "print(\"These are the l2 variables: {}\".format(l2.get_weights()))"
      ],
      "metadata": {
        "colab": {
          "base_uri": "https://localhost:8080/"
        },
        "id": "TE2T2ltytJB7",
        "outputId": "48179673-9b9e-43e5-cff7-c0477d94628d"
      },
      "execution_count": 25,
      "outputs": [
        {
          "output_type": "stream",
          "name": "stdout",
          "text": [
            "Finished training the model\n",
            "[[211.74742]]\n",
            "Model predicts that 100 degrees Celsius is: [[211.74742]] degrees Fahrenheit\n",
            "These are the l0 variables: [array([[ 0.20429902, -0.28334695, -0.27927172, -0.3964712 ]],\n",
            "      dtype=float32), array([ 3.175012 , -2.7130077, -2.755959 , -3.260455 ], dtype=float32)]\n",
            "These are the l1 variables: [array([[ 0.9148321 ,  0.34495616, -0.07884099,  0.86096877],\n",
            "       [-0.7301598 , -0.51007086,  0.05907013, -0.2171438 ],\n",
            "       [ 0.33799863, -0.6102819 ,  0.02555112, -0.619034  ],\n",
            "       [-0.5411967 , -0.28744486,  0.01008281, -1.0638402 ]],\n",
            "      dtype=float32), array([3.0718753, 3.0896688, 2.7110558, 3.108573 ], dtype=float32)]\n",
            "These are the l2 variables: [array([[0.65333825],\n",
            "       [1.0521476 ],\n",
            "       [0.527771  ],\n",
            "       [1.1536417 ]], dtype=float32), array([3.0458987], dtype=float32)]\n"
          ]
        }
      ]
    }
  ]
}